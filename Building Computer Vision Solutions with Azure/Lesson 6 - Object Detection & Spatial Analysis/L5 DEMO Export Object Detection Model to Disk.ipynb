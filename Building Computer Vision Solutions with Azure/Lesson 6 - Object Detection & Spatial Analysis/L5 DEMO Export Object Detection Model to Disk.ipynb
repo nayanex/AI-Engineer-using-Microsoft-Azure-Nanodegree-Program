{
 "cells": [
  {
   "cell_type": "markdown",
   "metadata": {},
   "source": [
    "### Please install the required Python modules/SDKs"
   ]
  },
  {
   "cell_type": "code",
   "execution_count": 1,
   "metadata": {},
   "outputs": [
    {
     "name": "stdout",
     "output_type": "stream",
     "text": [
      "Could not find conda environment: ai-azure-c1\r\n",
      "You can list all discoverable environments with `conda info --envs`.\r\n",
      "\r\n"
     ]
    }
   ],
   "source": [
    "! activate ai-azure-c1\n",
    "\n",
    "import sys\n",
    "\n",
    "sys.path.append(\"/opt/conda/envs/ai-azure-c1/lib/python3.8/site-packages\")"
   ]
  },
  {
   "cell_type": "markdown",
   "metadata": {},
   "source": [
    "## Importing Python modules for the demo"
   ]
  },
  {
   "cell_type": "code",
   "execution_count": 2,
   "metadata": {},
   "outputs": [],
   "source": [
    "import requests\n",
    "import os, time, uuid"
   ]
  },
  {
   "cell_type": "code",
   "execution_count": 3,
   "metadata": {},
   "outputs": [],
   "source": [
    "from azure.cognitiveservices.vision.customvision.training import CustomVisionTrainingClient\n",
    "from azure.cognitiveservices.vision.customvision.prediction import CustomVisionPredictionClient\n",
    "from azure.cognitiveservices.vision.customvision.training.models import ImageFileCreateBatch, ImageFileCreateEntry, Region\n",
    "from msrest.authentication import ApiKeyCredentials"
   ]
  },
  {
   "cell_type": "markdown",
   "metadata": {},
   "source": [
    "## Make sure you have the correct Training Endpoint, Key and Resource ID"
   ]
  },
  {
   "cell_type": "code",
   "execution_count": 4,
   "metadata": {},
   "outputs": [],
   "source": [
    "TRAINING_ENDPOINT = \"https://nayanacustomvision.cognitiveservices.azure.com/\"\n",
    "training_key = \"ce08598caf404621b37136119dccd921\"\n",
    "training_resource_id = \"/subscriptions/bb272072-9c6d-4e28-b814-947814c3e6ef/resourceGroups/nayana-ai-msft-azure/providers/Microsoft.CognitiveServices/accounts/nayanacustomvision\""
   ]
  },
  {
   "cell_type": "code",
   "execution_count": 5,
   "metadata": {},
   "outputs": [],
   "source": [
    "training_credentials = ApiKeyCredentials(in_headers={\"Training-key\": training_key})\n",
    "trainer = CustomVisionTrainingClient(TRAINING_ENDPOINT, training_credentials)"
   ]
  },
  {
   "cell_type": "markdown",
   "metadata": {},
   "source": [
    "### Getting a list of all Custom Vision projects "
   ]
  },
  {
   "cell_type": "code",
   "execution_count": 6,
   "metadata": {},
   "outputs": [],
   "source": [
    "all_project = trainer.get_projects()"
   ]
  },
  {
   "cell_type": "code",
   "execution_count": 7,
   "metadata": {},
   "outputs": [
    {
     "name": "stdout",
     "output_type": "stream",
     "text": [
      "Project ID:  c4c324e8-4f9e-49e3-b4be-797b38a686de\n",
      "Project Name:  cfd70f0c-a407-4410-b6ab-bc0632cd547e\n",
      "Project ID:  ddd61aae-3f1f-4196-94d6-7b4badc76ea7\n",
      "Project Name:  Automated-Passenger-Boarding-Kiosk\n"
     ]
    }
   ],
   "source": [
    "for each_project in all_project:\n",
    "    print(\"Project ID: \",each_project.id)\n",
    "    print(\"Project Name: \",each_project.name)"
   ]
  },
  {
   "cell_type": "markdown",
   "metadata": {},
   "source": [
    "### Select the project ID that you are interested in exporting. Make sure the project type is set to \"Compact\"."
   ]
  },
  {
   "cell_type": "code",
   "execution_count": 8,
   "metadata": {},
   "outputs": [
    {
     "name": "stdout",
     "output_type": "stream",
     "text": [
      "Project ID:  c4c324e8-4f9e-49e3-b4be-797b38a686de\n"
     ]
    }
   ],
   "source": [
    "project_id = all_project[0].id\n",
    "print(\"Project ID: \", project_id)"
   ]
  },
  {
   "cell_type": "code",
   "execution_count": 9,
   "metadata": {},
   "outputs": [],
   "source": [
    "all_iterations = trainer.get_iterations(project_id)"
   ]
  },
  {
   "cell_type": "code",
   "execution_count": 10,
   "metadata": {},
   "outputs": [
    {
     "name": "stdout",
     "output_type": "stream",
     "text": [
      "|--------- Iteration [0] --------\n",
      "Iteration ID:  20d0fcb5-25eb-4808-bcf3-5a9cab295eec\n",
      "Iteration Name:  Iteration 2\n",
      "Iteration Exportable:  True\n",
      "-----------------------------------------------------\n",
      "|--------- Iteration [1] --------\n",
      "Iteration ID:  31106c08-c783-42e1-a43a-fb99e3b74928\n",
      "Iteration Name:  Iteration 1\n",
      "Iteration Exportable:  False\n",
      "-----------------------------------------------------\n"
     ]
    }
   ],
   "source": [
    "for index, each_iteration in enumerate(all_iterations):\n",
    "    print(\"|--------- Iteration [{}] --------\".format(index))\n",
    "    print(\"Iteration ID: \",each_iteration.id)\n",
    "    print(\"Iteration Name: \",each_iteration.name)\n",
    "    print(\"Iteration Exportable: \",each_iteration.exportable)\n",
    "    print(\"-----------------------------------------------------\")"
   ]
  },
  {
   "cell_type": "markdown",
   "metadata": {},
   "source": [
    "### Above please verify that your project-> Iteration must be exportalble\n",
    "- Iteration Exportable: True\n",
    "\n",
    "Make sure there are exportable iterations. If none of the iteration is exportable, follow these steps:\n",
    "* Go to the Custom Vision portal\n",
    "* Select a project and change your project setting to support the compact domain\n",
    "* Create another iteration for model training\n",
    "\n",
    "You can check the *\"Azure Custom Vision Portal Demo 5: Export a Model\"* video for how to perform these steps.\n",
    "\n",
    "Then you can rerun the cells above."
   ]
  },
  {
   "cell_type": "code",
   "execution_count": 11,
   "metadata": {},
   "outputs": [
    {
     "name": "stdout",
     "output_type": "stream",
     "text": [
      "----- Model Perormance 0 -------- \n",
      "Iteration ID:  20d0fcb5-25eb-4808-bcf3-5a9cab295eec\n",
      "Precision: 1.0   Recall: 0.23809524 -------- \n",
      "-----------------------------------------------------\n",
      "----- Model Perormance 1 -------- \n",
      "Iteration ID:  31106c08-c783-42e1-a43a-fb99e3b74928\n",
      "Precision: 1.0   Recall: 0.074074075 -------- \n",
      "-----------------------------------------------------\n"
     ]
    }
   ],
   "source": [
    "for index, each_iteration in enumerate(all_iterations):\n",
    "    model_perf = trainer.get_iteration_performance(project_id, each_iteration.id)\n",
    "    print(\"----- Model Perormance {} -------- \".format(index))\n",
    "    print(\"Iteration ID: \",each_iteration.id)\n",
    "    print(\"Precision: {}   Recall: {} -------- \".format(model_perf.precision, model_perf.recall))\n",
    "    print(\"-----------------------------------------------------\")"
   ]
  },
  {
   "cell_type": "markdown",
   "metadata": {},
   "source": [
    "### Select the project ID that you are interested in exporting. Make sure it is exportable."
   ]
  },
  {
   "cell_type": "code",
   "execution_count": 12,
   "metadata": {},
   "outputs": [
    {
     "name": "stdout",
     "output_type": "stream",
     "text": [
      "20d0fcb5-25eb-4808-bcf3-5a9cab295eec\n"
     ]
    }
   ],
   "source": [
    "selected_iteration_id = all_iterations[0].id\n",
    "print(selected_iteration_id)"
   ]
  },
  {
   "cell_type": "markdown",
   "metadata": {},
   "source": [
    "### Platform Choices are\n",
    "- CoreML, TensorFlow, DockerFile, ONNX, VAIDK, and OpenVino\n",
    "\n",
    "### Flavor Choices are\n",
    "- Linux, Windows, ONNX10, ONNX12, ARM, TensorFlowNormal, and TensorFlowLite.\n",
    "\n",
    "### raw = True|False\n",
    "- If True, you can get raw JSON response along with the object model response"
   ]
  },
  {
   "cell_type": "markdown",
   "metadata": {},
   "source": [
    "# Start the model export process"
   ]
  },
  {
   "cell_type": "code",
   "execution_count": 13,
   "metadata": {},
   "outputs": [],
   "source": [
    "platform = \"TensorFlow\"\n",
    "flavor = \"TensorFlowLite\""
   ]
  },
  {
   "cell_type": "code",
   "execution_count": 14,
   "metadata": {},
   "outputs": [
    {
     "ename": "CustomVisionErrorException",
     "evalue": "20d0fcb5-25eb-4808-bcf3-5a9cab295eec is already queued for export",
     "output_type": "error",
     "traceback": [
      "\u001b[0;31m---------------------------------------------------------------------------\u001b[0m",
      "\u001b[0;31mCustomVisionErrorException\u001b[0m                Traceback (most recent call last)",
      "Input \u001b[0;32mIn [14]\u001b[0m, in \u001b[0;36m<cell line: 1>\u001b[0;34m()\u001b[0m\n\u001b[0;32m----> 1\u001b[0m export_process \u001b[38;5;241m=\u001b[39m \u001b[43mtrainer\u001b[49m\u001b[38;5;241;43m.\u001b[39;49m\u001b[43mexport_iteration\u001b[49m\u001b[43m(\u001b[49m\u001b[43mproject_id\u001b[49m\u001b[43m,\u001b[49m\u001b[43m \u001b[49m\u001b[43mselected_iteration_id\u001b[49m\u001b[43m,\u001b[49m\u001b[43m \u001b[49m\u001b[43mplatform\u001b[49m\u001b[43m,\u001b[49m\u001b[43m \u001b[49m\u001b[43mflavor\u001b[49m\u001b[43m,\u001b[49m\u001b[43m \u001b[49m\u001b[43mraw\u001b[49m\u001b[38;5;241;43m=\u001b[39;49m\u001b[38;5;28;43;01mTrue\u001b[39;49;00m\u001b[43m)\u001b[49m\n",
      "File \u001b[0;32m~/opt/anaconda3/envs/ai-azure-c1/lib/python3.8/site-packages/azure/cognitiveservices/vision/customvision/training/operations/_custom_vision_training_client_operations.py:2241\u001b[0m, in \u001b[0;36mCustomVisionTrainingClientOperationsMixin.export_iteration\u001b[0;34m(self, project_id, iteration_id, platform, flavor, custom_headers, raw, **operation_config)\u001b[0m\n\u001b[1;32m   2238\u001b[0m response \u001b[38;5;241m=\u001b[39m \u001b[38;5;28mself\u001b[39m\u001b[38;5;241m.\u001b[39m_client\u001b[38;5;241m.\u001b[39msend(request, stream\u001b[38;5;241m=\u001b[39m\u001b[38;5;28;01mFalse\u001b[39;00m, \u001b[38;5;241m*\u001b[39m\u001b[38;5;241m*\u001b[39moperation_config)\n\u001b[1;32m   2240\u001b[0m \u001b[38;5;28;01mif\u001b[39;00m response\u001b[38;5;241m.\u001b[39mstatus_code \u001b[38;5;129;01mnot\u001b[39;00m \u001b[38;5;129;01min\u001b[39;00m [\u001b[38;5;241m200\u001b[39m]:\n\u001b[0;32m-> 2241\u001b[0m     \u001b[38;5;28;01mraise\u001b[39;00m models\u001b[38;5;241m.\u001b[39mCustomVisionErrorException(\u001b[38;5;28mself\u001b[39m\u001b[38;5;241m.\u001b[39m_deserialize, response)\n\u001b[1;32m   2243\u001b[0m deserialized \u001b[38;5;241m=\u001b[39m \u001b[38;5;28;01mNone\u001b[39;00m\n\u001b[1;32m   2244\u001b[0m \u001b[38;5;28;01mif\u001b[39;00m response\u001b[38;5;241m.\u001b[39mstatus_code \u001b[38;5;241m==\u001b[39m \u001b[38;5;241m200\u001b[39m:\n",
      "\u001b[0;31mCustomVisionErrorException\u001b[0m: 20d0fcb5-25eb-4808-bcf3-5a9cab295eec is already queued for export"
     ]
    }
   ],
   "source": [
    "export_process = trainer.export_iteration(project_id, selected_iteration_id, platform, flavor, raw=True)"
   ]
  },
  {
   "cell_type": "code",
   "execution_count": null,
   "metadata": {},
   "outputs": [],
   "source": [
    "print(export_process.output)"
   ]
  },
  {
   "cell_type": "code",
   "execution_count": null,
   "metadata": {},
   "outputs": [],
   "source": [
    "print(export_process.output.status)"
   ]
  },
  {
   "cell_type": "code",
   "execution_count": null,
   "metadata": {
    "scrolled": false
   },
   "outputs": [],
   "source": [
    "### Code snippet is from Azure SDK and Documentation\n",
    "### https://docs.microsoft.com/en-us/azure/cognitive-services/custom-vision-service/export-programmatically\n",
    "### This step may take a long time \n",
    "while (export_process.output.status == \"Exporting\"):\n",
    "    print (\"Waiting 10 seconds...\")\n",
    "    time.sleep(10)\n",
    "    exports = trainer.get_exports(project_id, selected_iteration_id)\n",
    "    for e in exports:\n",
    "        if e.platform == export_process.output.platform and e.flavor == export_process.output.flavor:\n",
    "            export = e\n",
    "            break\n",
    "    print(\"Export status is: \", export_process.output.status)"
   ]
  },
  {
   "cell_type": "code",
   "execution_count": null,
   "metadata": {},
   "outputs": [],
   "source": [
    "print(export_process.output.status)"
   ]
  },
  {
   "cell_type": "code",
   "execution_count": null,
   "metadata": {},
   "outputs": [],
   "source": [
    "print(export_process.output.download_uri)"
   ]
  },
  {
   "cell_type": "code",
   "execution_count": null,
   "metadata": {},
   "outputs": [],
   "source": [
    "## Downloading the model from url\n",
    "if export_process.output.status == \"Done\":\n",
    "    # Ready to Download\n",
    "    model_export_file = requests.get(export_process.output.download_uri)\n",
    "    with open(\"birds_flowers_model_tensorflow.zip\", \"wb\") as file:\n",
    "        file.write(model_export_file.content)"
   ]
  },
  {
   "cell_type": "markdown",
   "metadata": {},
   "source": [
    "# Collecting Export Status by project ID and iteration ID"
   ]
  },
  {
   "cell_type": "code",
   "execution_count": null,
   "metadata": {},
   "outputs": [],
   "source": [
    "exports_offline = trainer.get_exports(project_id, selected_iteration_id)"
   ]
  },
  {
   "cell_type": "code",
   "execution_count": null,
   "metadata": {},
   "outputs": [],
   "source": [
    "for e in exports_offline:\n",
    "    print(e)"
   ]
  },
  {
   "cell_type": "code",
   "execution_count": null,
   "metadata": {},
   "outputs": [],
   "source": [
    "for e in exports_offline:\n",
    "    if e.status == 'Done':\n",
    "        print(\"Downloading model from URL: \", e.download_uri)\n",
    "        model_export_file = requests.get(e.download_uri)\n",
    "        with open(\"birds_flowers_model_tensorflow.zip\", \"wb\") as file:\n",
    "            file.write(model_export_file.content)"
   ]
  },
  {
   "cell_type": "code",
   "execution_count": null,
   "metadata": {},
   "outputs": [],
   "source": [
    "!ls -l birds_flowers_model_tensorflow.zip"
   ]
  },
  {
   "cell_type": "code",
   "execution_count": null,
   "metadata": {},
   "outputs": [],
   "source": []
  }
 ],
 "metadata": {
  "kernelspec": {
   "display_name": "Python 3 (ipykernel)",
   "language": "python",
   "name": "python3"
  },
  "language_info": {
   "codemirror_mode": {
    "name": "ipython",
    "version": 3
   },
   "file_extension": ".py",
   "mimetype": "text/x-python",
   "name": "python",
   "nbconvert_exporter": "python",
   "pygments_lexer": "ipython3",
   "version": "3.8.13"
  }
 },
 "nbformat": 4,
 "nbformat_minor": 4
}
