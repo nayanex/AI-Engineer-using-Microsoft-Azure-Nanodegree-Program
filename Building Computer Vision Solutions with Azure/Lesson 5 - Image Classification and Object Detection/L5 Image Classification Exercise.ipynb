{
 "cells": [
  {
   "cell_type": "markdown",
   "metadata": {},
   "source": [
    "### Please install the required Python modules/SDKs"
   ]
  },
  {
   "cell_type": "code",
   "execution_count": null,
   "metadata": {},
   "outputs": [],
   "source": [
    "! activate ai-azure-c1\n",
    "\n",
    "import sys\n",
    "\n",
    "sys.path.append(\"/opt/conda/envs/ai-azure-c1/lib/python3.8/site-packages\")"
   ]
  },
  {
   "cell_type": "markdown",
   "metadata": {},
   "source": [
    "## Please use this Jupyter Notebook to write the above exercise solution\n",
    "### Importing utility functions and Python modules"
   ]
  },
  {
   "cell_type": "code",
   "execution_count": null,
   "metadata": {},
   "outputs": [],
   "source": [
    "import requests\n",
    "from urllib.parse import urlparse\n",
    "from io import BytesIO\n",
    "from PIL import Image, ImageDraw\n",
    "import matplotlib.pyplot as plt\n",
    "\n",
    "import os, time, uuid\n",
    "\n",
    "from azure.cognitiveservices.vision.customvision.training import CustomVisionTrainingClient\n",
    "from azure.cognitiveservices.vision.customvision.prediction import CustomVisionPredictionClient\n",
    "from azure.cognitiveservices.vision.customvision.training.models import ImageFileCreateBatch, ImageFileCreateEntry, Region\n",
    "from msrest.authentication import ApiKeyCredentials"
   ]
  },
  {
   "cell_type": "markdown",
   "metadata": {},
   "source": [
    "### Make sure you have correct Training and Prediction Endpoint, Key and Resource ID separately\n",
    "\n",
    "#### You will need:\n",
    "- Azure Custom Vision Endpoint\n",
    "- Traning Reource ID and Key\n",
    "- Prediction Resource ID and Key"
   ]
  },
  {
   "cell_type": "code",
   "execution_count": null,
   "metadata": {},
   "outputs": [],
   "source": [
    "TRAINING_ENDPOINT = \"ENTER TRAINING ENDPOINT HERE\"\n",
    "training_key = \"ENTER TRAINING RESOURCE KEY HERE\"\n",
    "training_resource_id = 'ENTER TRAINING RESOURCE ID HERE'"
   ]
  },
  {
   "cell_type": "code",
   "execution_count": null,
   "metadata": {},
   "outputs": [],
   "source": [
    "PREDICTION_ENDPOINT = 'ENTER PREDICTION RESOURCE KEY HERE'\n",
    "prediction_key = \"ENTER PREDICTION RESOURCE KEY HERE\"\n",
    "prediction_resource_id = \"ENTER PREDICTION RESOURCE ID HERE\""
   ]
  },
  {
   "cell_type": "markdown",
   "metadata": {},
   "source": [
    "### Instantiate and authenticate the training client with endpoint and key "
   ]
  },
  {
   "cell_type": "code",
   "execution_count": null,
   "metadata": {},
   "outputs": [],
   "source": [
    "training_credentials = ApiKeyCredentials(in_headers={\"Training-key\": training_key})\n",
    "trainer = CustomVisionTrainingClient(TRAINING_ENDPOINT, training_credentials)"
   ]
  },
  {
   "cell_type": "code",
   "execution_count": null,
   "metadata": {},
   "outputs": [],
   "source": [
    "trainer.api_version"
   ]
  },
  {
   "cell_type": "markdown",
   "metadata": {},
   "source": [
    "### TODO: Creating Your Training Project"
   ]
  },
  {
   "cell_type": "code",
   "execution_count": null,
   "metadata": {},
   "outputs": [],
   "source": [
    "# Todo: create a new project\n",
    "print (\"Training project created. Please move on.\")\n",
    "project_name = 'CHANGE THIS'\n",
    "# To change the project classification type, you can set classification_type = 'Multiclass'.\n",
    "project = None\n",
    "\n",
    "# Getting Project Details as collective information \n",
    "project.as_dict()"
   ]
  },
  {
   "cell_type": "markdown",
   "metadata": {},
   "source": [
    "### TODO: Adding Tags Based on Training Requirements"
   ]
  },
  {
   "cell_type": "code",
   "execution_count": null,
   "metadata": {},
   "outputs": [],
   "source": [
    "# Todo: add tags to the training project, make sure to change 'tag_name' based on the classes/labels\n",
    "tag_name = None"
   ]
  },
  {
   "cell_type": "markdown",
   "metadata": {},
   "source": [
    "### TODO: Upload Traning Data"
   ]
  },
  {
   "cell_type": "code",
   "execution_count": null,
   "metadata": {},
   "outputs": [],
   "source": [
    "# Code taken from Azure SDK Sample. No need to change it\n",
    "def upload_images_for_training(local_project_id, local_img_folder_name, image_tag_id):\n",
    "    image_list = []\n",
    "    files = os.listdir(os.path.join (local_image_path, local_img_folder_name))\n",
    "    for file in files:\n",
    "        full_path = os.path.join(local_image_path, local_img_folder_name, file)\n",
    "        if os.path.isfile(full_path) and full_path.endswith('.jpg'):\n",
    "            with open(os.path.join (local_image_path, local_img_folder_name, file), \"rb\") as image_contents:\n",
    "                image_list.append(ImageFileCreateEntry(name=file, contents=image_contents.read(), tag_ids=[image_tag_id]))\n",
    "                \n",
    "    upload_result = trainer.create_images_from_files(local_project_id, ImageFileCreateBatch(images=image_list))\n",
    "    if not upload_result.is_batch_successful:\n",
    "        print(\"Image batch upload failed.\")\n",
    "        for image in upload_result.images:\n",
    "            print(\"Image status: \", image.status)\n",
    "        exit(-1)\n",
    "    return upload_result"
   ]
  },
  {
   "cell_type": "code",
   "execution_count": null,
   "metadata": {},
   "outputs": [],
   "source": [
    "# Todo: update the image path\n",
    "local_image_path = 'CHANGE THIS'\n",
    "\n",
    "# Todo: upload images. Make sure to upload images for ALL classes/tags\n",
    "result_tag1 = upload_images_for_training()"
   ]
  },
  {
   "cell_type": "code",
   "execution_count": null,
   "metadata": {},
   "outputs": [],
   "source": [
    "# Todo: check if images for ALL tags are successfully uploaded.\n",
    "result_tag1.is_batch_successful"
   ]
  },
  {
   "cell_type": "markdown",
   "metadata": {},
   "source": [
    "### TODO: Start the Image Classification Training"
   ]
  },
  {
   "cell_type": "code",
   "execution_count": null,
   "metadata": {},
   "outputs": [],
   "source": [
    "# Todo: set the train_project object\n",
    "iteration = None\n",
    "\n",
    "# We will be keep checking every 10 seconds the training progress\n",
    "while (iteration.status != \"Completed\"):\n",
    "    iteration = trainer.get_iteration(project.id, iteration.id)\n",
    "    print (\"Training status: \" + iteration.status)\n",
    "    print (\"Waiting 10 seconds...\")\n",
    "    time.sleep(10)"
   ]
  },
  {
   "cell_type": "markdown",
   "metadata": {},
   "source": [
    "### TODO: Get the Model Performance"
   ]
  },
  {
   "cell_type": "code",
   "execution_count": null,
   "metadata": {},
   "outputs": [],
   "source": [
    "iteration.as_dict()"
   ]
  },
  {
   "cell_type": "code",
   "execution_count": null,
   "metadata": {},
   "outputs": [],
   "source": [
    "iteration_list = trainer.get_iterations(project.id)\n",
    "for iteration_item in iteration_list:\n",
    "    print(iteration_item)"
   ]
  },
  {
   "cell_type": "code",
   "execution_count": null,
   "metadata": {},
   "outputs": [],
   "source": [
    "# Todo: get the model performance\n",
    "model_perf = None"
   ]
  },
  {
   "cell_type": "code",
   "execution_count": null,
   "metadata": {},
   "outputs": [],
   "source": [
    "# Evaluate model performance by looking at the precision and recall values.\n",
    "model_perf.as_dict()"
   ]
  },
  {
   "cell_type": "markdown",
   "metadata": {},
   "source": [
    "### TODO: Add more images and perform more training iterations to improve your model performance."
   ]
  },
  {
   "cell_type": "code",
   "execution_count": null,
   "metadata": {},
   "outputs": [],
   "source": [
    "# more training here..."
   ]
  },
  {
   "cell_type": "markdown",
   "metadata": {},
   "source": [
    "### TODO: Publishing the Model to the Project Endpoint"
   ]
  },
  {
   "cell_type": "code",
   "execution_count": null,
   "metadata": {},
   "outputs": [],
   "source": [
    "# Todo: set the Iteration Name. This will be used when Model training is completed\n",
    "publish_iteration_name = \"ENTER YOUR ITERATION NAME\""
   ]
  },
  {
   "cell_type": "code",
   "execution_count": null,
   "metadata": {},
   "outputs": [],
   "source": [
    "# Todo: publish it to the project endpoint\n",
    "trainer.publish_iteration()\n",
    "print (\"Done!\")"
   ]
  },
  {
   "cell_type": "markdown",
   "metadata": {},
   "source": [
    "### TODO: Performing Prediction"
   ]
  },
  {
   "cell_type": "code",
   "execution_count": null,
   "metadata": {},
   "outputs": [],
   "source": [
    "# Instantiate and authenticate the prediction client with endpoint and key\n",
    "prediction_credentials = ApiKeyCredentials(in_headers={\"Prediction-key\": prediction_key})\n",
    "predictor = CustomVisionPredictionClient(PREDICTION_ENDPOINT, prediction_credentials)\n",
    "predictor.api_version"
   ]
  },
  {
   "cell_type": "code",
   "execution_count": null,
   "metadata": {},
   "outputs": [],
   "source": [
    "# Todo: define a function to use the predictor object.\n",
    "def perform_prediction(image_file_name):\n",
    "    with open(os.path.join (local_image_path,  image_file_name), \"rb\") as image_contents:\n",
    "        # Todo: set the predictor object to classify the image.\n",
    "        results = None\n",
    "        # Display the results.\n",
    "        for prediction in results.predictions:\n",
    "            print(\"\\t\" + prediction.tag_name +\n",
    "                  \": {0:.2f}%\".format(prediction.probability * 100))"
   ]
  },
  {
   "cell_type": "code",
   "execution_count": null,
   "metadata": {},
   "outputs": [],
   "source": [
    "# Todo: set the image that you want to perform prediction. Make sure the image is under the right path.\n",
    "file_name = 'ENTER A FILE NAME'\n",
    "local_image_path = 'CHANGE THIS'"
   ]
  },
  {
   "cell_type": "code",
   "execution_count": null,
   "metadata": {},
   "outputs": [],
   "source": [
    "# Todo: call the perform_prediction function to make the prediction\n",
    "perform_prediction()"
   ]
  },
  {
   "cell_type": "code",
   "execution_count": null,
   "metadata": {},
   "outputs": [],
   "source": [
    "# Check the Image\n",
    "with open(os.path.join (local_image_path, file_name), 'rb') as img_code:\n",
    "    img_view_ready = Image.open(img_code)\n",
    "    plt.figure()\n",
    "    plt.imshow(img_view_ready)"
   ]
  },
  {
   "cell_type": "markdown",
   "metadata": {},
   "source": [
    "### Export Model (optional)\n",
    "You can download the model so it can be used outside Azure. Note: this step may take a very long time."
   ]
  },
  {
   "cell_type": "code",
   "execution_count": null,
   "metadata": {},
   "outputs": [],
   "source": [
    "print(\"Project ID: \", project.id)"
   ]
  },
  {
   "cell_type": "code",
   "execution_count": null,
   "metadata": {},
   "outputs": [],
   "source": [
    "all_iterations = trainer.get_iterations(project.id)"
   ]
  },
  {
   "cell_type": "code",
   "execution_count": null,
   "metadata": {},
   "outputs": [],
   "source": [
    "# Check if the iteration is exportable\n",
    "for index, each_iteration in enumerate(all_iterations):\n",
    "    print(\"|--------- Iteration [{}] --------\".format(index))\n",
    "    print(\"Iteration ID: \",each_iteration.id)\n",
    "    print(\"Iteration Name: \",each_iteration.name)\n",
    "    print(\"Iteration Exportable: \",each_iteration.exportable)\n",
    "    print(\"-----------------------------------------------------\")"
   ]
  },
  {
   "cell_type": "markdown",
   "metadata": {},
   "source": [
    "Above please verify that your project-> Iteration must be exportalble\n",
    "- Iteration Exportable: True\n",
    "\n",
    "Make sure there are exportable iterations. If none of the iteration is exportable, follow these steps:\n",
    "* Go to the Custom Vision portal\n",
    "* Select a project and change your project setting to support the compact domain\n",
    "* Create another iteration for model training\n",
    "\n",
    "You can check the *\"Azure Custom Vision Portal Demo 5: Export a Model\"* video for how to perform these steps.\n",
    "\n",
    "Then you can rerun the cells above."
   ]
  },
  {
   "cell_type": "code",
   "execution_count": null,
   "metadata": {},
   "outputs": [],
   "source": [
    "# Todo: change the all_iterations index. Make sure the iterations is the exportable.\n",
    "selected_iteration_id = all_iterations[0].id\n",
    "print(selected_iteration_id)"
   ]
  },
  {
   "cell_type": "code",
   "execution_count": null,
   "metadata": {},
   "outputs": [],
   "source": [
    "# Using the TensorFlow platform\n",
    "platform = \"TensorFlow\"\n",
    "flavor = \"TensorFlowLite\""
   ]
  },
  {
   "cell_type": "code",
   "execution_count": null,
   "metadata": {},
   "outputs": [],
   "source": [
    "# Use the export object to expert the project and trained model\n",
    "export_process = trainer.export_iteration(project.id, selected_iteration_id, platform, flavor, raw=True)"
   ]
  },
  {
   "cell_type": "code",
   "execution_count": null,
   "metadata": {},
   "outputs": [],
   "source": [
    "print(export_process.output)"
   ]
  },
  {
   "cell_type": "code",
   "execution_count": null,
   "metadata": {},
   "outputs": [],
   "source": [
    "print(export_process.output.status)"
   ]
  },
  {
   "cell_type": "code",
   "execution_count": null,
   "metadata": {},
   "outputs": [],
   "source": [
    "# Code snippet is from Azure SDK and Documentation\n",
    "# https://docs.microsoft.com/en-us/azure/cognitive-services/custom-vision-service/export-programmatically\n",
    "# Note: this step may take long time \n",
    "while (export_process.output.status == \"Exporting\"):\n",
    "    print (\"Waiting 10 seconds...\")\n",
    "    time.sleep(10)\n",
    "    exports = trainer.get_exports(project_id, selected_iteration_id)\n",
    "    for e in exports:\n",
    "        if e.platform == export_process.output.platform and e.flavor == export_process.output.flavor:\n",
    "            export = e\n",
    "            break\n",
    "    print(\"Export status is: \", export_process.output.status)"
   ]
  },
  {
   "cell_type": "code",
   "execution_count": null,
   "metadata": {},
   "outputs": [],
   "source": [
    "print(export_process.output.status)"
   ]
  },
  {
   "cell_type": "code",
   "execution_count": null,
   "metadata": {},
   "outputs": [],
   "source": [
    "print(export_process.output.download_uri)"
   ]
  },
  {
   "cell_type": "code",
   "execution_count": null,
   "metadata": {},
   "outputs": [],
   "source": [
    "## Downloading the model from url\n",
    "if export_process.output.status == \"Done\":\n",
    "    # Ready to Download. You can choose any preferred name of the file.\n",
    "    model_export_file = requests.get(export_process.output.download_uri)\n",
    "    with open(\"model.zip\", \"wb\") as file:\n",
    "        file.write(model_export_file.content)"
   ]
  }
 ],
 "metadata": {
  "kernelspec": {
   "display_name": "Python 3",
   "language": "python",
   "name": "python3"
  },
  "language_info": {
   "codemirror_mode": {
    "name": "ipython",
    "version": 3
   },
   "file_extension": ".py",
   "mimetype": "text/x-python",
   "name": "python",
   "nbconvert_exporter": "python",
   "pygments_lexer": "ipython3",
   "version": "3.6.3"
  }
 },
 "nbformat": 4,
 "nbformat_minor": 2
}
