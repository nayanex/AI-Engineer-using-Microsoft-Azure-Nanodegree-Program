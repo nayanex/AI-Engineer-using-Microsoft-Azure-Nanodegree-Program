{
 "cells": [
  {
   "cell_type": "markdown",
   "metadata": {},
   "source": [
    "### Please install the required Python modules/SDKs"
   ]
  },
  {
   "cell_type": "code",
   "execution_count": null,
   "metadata": {},
   "outputs": [],
   "source": [
    "! activate ai-azure-c1\n",
    "\n",
    "import sys\n",
    "\n",
    "sys.path.append(\"/opt/conda/envs/ai-azure-c1/lib/python3.8/site-packages\")"
   ]
  },
  {
   "cell_type": "code",
   "execution_count": null,
   "metadata": {},
   "outputs": [],
   "source": [
    "!pip install Pillow==8.4"
   ]
  },
  {
   "cell_type": "code",
   "execution_count": null,
   "metadata": {},
   "outputs": [],
   "source": [
    "import datetime\n",
    "import pandas as pd\n",
    "from PIL import Image\n",
    "import requests\n",
    "import io\n",
    "import glob, os, sys, time, uuid\n",
    "\n",
    "from matplotlib.pyplot import imshow\n",
    "import matplotlib.pyplot as plt\n",
    "%matplotlib inline\n",
    "\n",
    "from urllib.parse import urlparse\n",
    "from io import BytesIO\n",
    "from PIL import Image, ImageDraw\n",
    "\n",
    "from azure.cognitiveservices.vision.face import FaceClient\n",
    "from azure.cognitiveservices.vision.face.models import TrainingStatusType\n",
    "from msrest.authentication import CognitiveServicesCredentials"
   ]
  },
  {
   "cell_type": "markdown",
   "metadata": {},
   "source": [
    "### TODO: Accessing Specific Azure Resources"
   ]
  },
  {
   "cell_type": "code",
   "execution_count": null,
   "metadata": {},
   "outputs": [],
   "source": [
    "FACE_KEY = \"ENTER FACE SERVICE RESOURCE KEY\"\n",
    "FACE_ENDPOINT = \"ENTER FACE SERVICE RESOURCE ENDPOINT\""
   ]
  },
  {
   "cell_type": "code",
   "execution_count": null,
   "metadata": {},
   "outputs": [],
   "source": [
    "# Create a client\n",
    "face_client = FaceClient(FACE_ENDPOINT, CognitiveServicesCredentials(FACE_KEY))\n",
    "face_client.api_version"
   ]
  },
  {
   "cell_type": "markdown",
   "metadata": {},
   "source": [
    "### TODO: Upload And View Images\n",
    "Now, upload several images of your own to this workspace and modify the code below as needed"
   ]
  },
  {
   "cell_type": "code",
   "execution_count": null,
   "metadata": {},
   "outputs": [],
   "source": [
    "!ls human-face*.jpg"
   ]
  },
  {
   "cell_type": "code",
   "execution_count": null,
   "metadata": {},
   "outputs": [],
   "source": [
    "# Get a list of images with file name starting with \"human-face\"\n",
    "my_face_images = [file for file in glob.glob('*.jpg') if file.startswith(\"human-face\")]\n",
    "print(my_face_images)"
   ]
  },
  {
   "cell_type": "code",
   "execution_count": null,
   "metadata": {},
   "outputs": [],
   "source": [
    "# Plot the images\n",
    "for img in my_face_images:\n",
    "    with open(img, 'rb') as img_code:\n",
    "        img_view_ready = Image.open(img_code)\n",
    "        plt.figure()\n",
    "        plt.imshow(img_view_ready)"
   ]
  },
  {
   "cell_type": "markdown",
   "metadata": {},
   "source": [
    "### TODO: Creating Person Model"
   ]
  },
  {
   "cell_type": "code",
   "execution_count": null,
   "metadata": {},
   "outputs": [],
   "source": [
    "PERSON_GROUP_ID = str(uuid.uuid4())\n",
    "person_group_name = 'ENTER YOUR PERSON GROUP NAME'"
   ]
  },
  {
   "cell_type": "code",
   "execution_count": null,
   "metadata": {},
   "outputs": [],
   "source": [
    "# Todo: define a function to create and train a person group\n",
    "def build_person_group(client, person_group_id, pgp_name):\n",
    "    print('Create and build a person group...')\n",
    "    # Create empty Person Group. Person Group ID must be lower case, alphanumeric, and/or with '-', '_'.\n",
    "    print('Person group ID:', person_group_id)\n",
    "    \n",
    "    # Todo: create a person group using the person_group.create object\n",
    "    client.person_group.create()\n",
    "\n",
    "    # Todo: create a person group person using the person_group_person.create object\n",
    "    my_face = client.person_group_person.create()\n",
    "    \n",
    "    # Find all jpeg images of human in working directory.\n",
    "    my_face_images = [file for file in glob.glob('*.jpg') if file.startswith(\"human-face\")]\n",
    "    \n",
    "    # Add images to a Person object\n",
    "    for image_p in my_face_images:\n",
    "        with open(image_p, 'rb') as w:\n",
    "            client.person_group_person.add_face_from_stream(person_group_id, my_face.person_id, w)\n",
    "\n",
    "    # Todo: train the person group using the person_group.train object\n",
    "    client.person_group.train()\n",
    "\n",
    "    # Wait for training to finish.\n",
    "    while (True):\n",
    "        training_status = client.person_group.get_training_status(person_group_id)\n",
    "        print(\"Training status: {}.\".format(training_status.status))\n",
    "        if (training_status.status is TrainingStatusType.succeeded):\n",
    "            break\n",
    "        elif (training_status.status is TrainingStatusType.failed):\n",
    "            client.person_group.delete(person_group_id=PERSON_GROUP_ID)\n",
    "            sys.exit('Training the person group has failed.')\n",
    "        time.sleep(5)"
   ]
  },
  {
   "cell_type": "code",
   "execution_count": null,
   "metadata": {},
   "outputs": [],
   "source": [
    "build_person_group(face_client, PERSON_GROUP_ID, person_group_name)"
   ]
  },
  {
   "cell_type": "markdown",
   "metadata": {},
   "source": [
    "### TODO: Making Sure The Faces In The Person Model Belong To The Same Person"
   ]
  },
  {
   "cell_type": "code",
   "execution_count": null,
   "metadata": {},
   "outputs": [],
   "source": [
    "# Todo: detect all faces in query_image_list, then add their face IDs to a new list.\n",
    "def detect_faces(client, query_images_list):\n",
    "    print('Detecting faces in query images list...')\n",
    "\n",
    "    face_ids = {} # Keep track of the image ID and the related image in a dictionary\n",
    "    for image_name in query_images_list:\n",
    "        image = open(image_name, 'rb') # BufferedReader\n",
    "        print(\"Opening image: \", image.name)\n",
    "        time.sleep(5)\n",
    "\n",
    "        # Todo: detect the faces in the query images list using face.detect_with_stream object\n",
    "        faces = None\n",
    "\n",
    "        # Add all detected face IDs to a list\n",
    "        for face in faces:\n",
    "            print('Face ID', face.face_id, 'found in image', os.path.splitext(image.name)[0]+'.jpg')\n",
    "            # Add the ID to a dictionary with image name as a key.\n",
    "            # This assumes there is only one face per image (since you can't have duplicate keys)\n",
    "            face_ids[image.name] = face.face_id\n",
    "\n",
    "    return face_ids"
   ]
  },
  {
   "cell_type": "code",
   "execution_count": null,
   "metadata": {},
   "outputs": [],
   "source": [
    "# Detect faces in the test images\n",
    "ids = detect_faces(face_client, my_face_images)\n",
    "ids"
   ]
  },
  {
   "cell_type": "markdown",
   "metadata": {},
   "source": [
    "### TODO: Verify that 2 random images from the list belong to the same person"
   ]
  },
  {
   "cell_type": "code",
   "execution_count": null,
   "metadata": {},
   "outputs": [],
   "source": [
    "# Todo: use face.verify_face_to_face object to verify that 2 random faces from the list belong to the same person\n",
    "verify_result = None"
   ]
  },
  {
   "cell_type": "code",
   "execution_count": null,
   "metadata": {},
   "outputs": [],
   "source": [
    "if verify_result.is_identical:\n",
    "    print(\"Faces are of the same (Positive) person, similarity confidence: {}.\".format(verify_result.confidence))\n",
    "else:\n",
    "    print(\"Faces are of different (Negative) persons, similarity confidence: {}.\".format(verify_result.confidence))"
   ]
  },
  {
   "cell_type": "markdown",
   "metadata": {},
   "source": [
    "### TODO: Prepare An Image For Facial Recognition"
   ]
  },
  {
   "cell_type": "code",
   "execution_count": null,
   "metadata": {},
   "outputs": [],
   "source": [
    "# Todo: Replace with your own image URL. This image will be used to perform facial recognition\n",
    "dl_source_url = \"IMAGE URL\""
   ]
  },
  {
   "cell_type": "code",
   "execution_count": null,
   "metadata": {},
   "outputs": [],
   "source": [
    "# Todo: detect the face in the image using face.detect_with_url object\n",
    "dl_faces = None"
   ]
  },
  {
   "cell_type": "code",
   "execution_count": null,
   "metadata": {},
   "outputs": [],
   "source": [
    "## -------\n",
    "## Reading file locally\n",
    "## -------\n",
    "# If you uploaded an image file locally, you should use the following method to detect the face\n",
    "# dl_image = open('/your-local-file-system/udacity/cal-dl.png', 'rb')\n",
    "# dl_faces = face_client.face.detect_with_stream(dl_image)  "
   ]
  },
  {
   "cell_type": "code",
   "execution_count": null,
   "metadata": {},
   "outputs": [],
   "source": [
    "# View Face ID and then save it into the list of already saved Face IDs\n",
    "for face in dl_faces:\n",
    "    print('Face ID', face.face_id, 'found in image', dl_source_url)\n",
    "    # Add the ID to a dictionary with image name as a key.\n",
    "    # This assumes there is only one face per image (since you can't have duplicate keys)\n",
    "    ids['sample-image.png'] = face.face_id"
   ]
  },
  {
   "cell_type": "code",
   "execution_count": null,
   "metadata": {},
   "outputs": [],
   "source": [
    "# Now, you should have (n + 1) Face IDs in your Face ID list\n",
    "ids"
   ]
  },
  {
   "cell_type": "markdown",
   "metadata": {},
   "source": [
    "### TODO: Perform Face Verification Between One Of The Face In The Person Model And The Sample Image Face"
   ]
  },
  {
   "cell_type": "code",
   "execution_count": null,
   "metadata": {},
   "outputs": [],
   "source": [
    "# Todo: use face.verify_face_to_face to verify that the faces belong to the same person.\n",
    "# Make sure you verify between the sample image and one of the image in the person model\n",
    "verify_result = None"
   ]
  },
  {
   "cell_type": "code",
   "execution_count": null,
   "metadata": {},
   "outputs": [],
   "source": [
    "if dl_verify_result.is_identical:\n",
    "    print(\"Faces are of the same (Positive) person, similarity confidence: {}.\".format(verify_result.confidence))\n",
    "else:\n",
    "    print(\"Faces are of different (Negative) persons, similarity confidence: {}.\".format(verify_result.confidence))"
   ]
  },
  {
   "cell_type": "code",
   "execution_count": null,
   "metadata": {},
   "outputs": [],
   "source": [
    "# Convert width height to a point in a rectangle\n",
    "def getRectangle(faceDictionary):\n",
    "    rect = faceDictionary.face_rectangle\n",
    "    left = rect.left\n",
    "    top = rect.top\n",
    "    right = left + rect.width\n",
    "    bottom = top + rect.height\n",
    "    \n",
    "    return ((left, top), (right, bottom))\n",
    "\n",
    "# Draw boxes around every detected faces\n",
    "def drawFaceRectangles(source_file, detected_face_object) :\n",
    "    # Download the image from the url\n",
    "    response = requests.get(source_file)\n",
    "    img = Image.open(BytesIO(response.content))\n",
    "    # Draw a red box around every detected faces\n",
    "    draw = ImageDraw.Draw(img)\n",
    "    for face in detected_face_object:\n",
    "        draw.rectangle(getRectangle(face), outline='red', width = 10)\n",
    "    return img"
   ]
  },
  {
   "cell_type": "code",
   "execution_count": null,
   "metadata": {},
   "outputs": [],
   "source": [
    "drawFaceRectangles(dl_source_url, dl_faces)"
   ]
  },
  {
   "cell_type": "markdown",
   "metadata": {},
   "source": [
    "### TODO: Identify The Sample Image with The Person Model "
   ]
  },
  {
   "cell_type": "code",
   "execution_count": null,
   "metadata": {},
   "outputs": [],
   "source": [
    "# Todo: enter the face ID of the sample image\n",
    "get_the_face_id_from_the_driving_license = 'ENTER FACE ID HERE'"
   ]
  },
  {
   "cell_type": "code",
   "execution_count": null,
   "metadata": {},
   "outputs": [],
   "source": [
    "# Todo: identify the sample image using the face.identify object\n",
    "person_gp_results = None"
   ]
  },
  {
   "cell_type": "code",
   "execution_count": null,
   "metadata": {},
   "outputs": [],
   "source": [
    "for result in person_gp_results:\n",
    "    for candidate in result.candidates:\n",
    "        print(\"The Identity match confidence is {}\".format(candidate.confidence))"
   ]
  }
 ],
 "metadata": {
  "kernelspec": {
   "display_name": "Python 3",
   "language": "python",
   "name": "python3"
  },
  "language_info": {
   "codemirror_mode": {
    "name": "ipython",
    "version": 3
   },
   "file_extension": ".py",
   "mimetype": "text/x-python",
   "name": "python",
   "nbconvert_exporter": "python",
   "pygments_lexer": "ipython3",
   "version": "3.6.3"
  }
 },
 "nbformat": 4,
 "nbformat_minor": 2
}
