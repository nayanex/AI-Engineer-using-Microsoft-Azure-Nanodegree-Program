{
 "cells": [
  {
   "cell_type": "markdown",
   "metadata": {},
   "source": [
    "### Please install the required Python modules/SDKs"
   ]
  },
  {
   "cell_type": "code",
   "execution_count": null,
   "metadata": {},
   "outputs": [],
   "source": [
    "! activate ai-azure-c1\n",
    "\n",
    "import sys\n",
    "\n",
    "sys.path.append(\"/opt/conda/envs/ai-azure-c1/lib/python3.8/site-packages\")"
   ]
  },
  {
   "cell_type": "markdown",
   "metadata": {},
   "source": [
    "### In this Jupyter Notebook, we access and delete models from the following two resources:\n",
    "- Azure Custom Vision\n",
    "- Azure Form Recognizer"
   ]
  },
  {
   "cell_type": "markdown",
   "metadata": {},
   "source": [
    "# Custom Vision Model - Deleting iteration will delete the model"
   ]
  },
  {
   "cell_type": "code",
   "execution_count": null,
   "metadata": {},
   "outputs": [],
   "source": [
    "from azure.cognitiveservices.vision.customvision.training import CustomVisionTrainingClient\n",
    "from msrest.authentication import ApiKeyCredentials"
   ]
  },
  {
   "cell_type": "code",
   "execution_count": null,
   "metadata": {},
   "outputs": [],
   "source": [
    "ENDPOINT = \"ENTER ENDPOINT HERE\"\n",
    "training_key = \"ENTER KEY HERE\"\n",
    "training_resource_id = \"ENTER RESOURCE ID HERE\""
   ]
  },
  {
   "cell_type": "code",
   "execution_count": null,
   "metadata": {},
   "outputs": [],
   "source": [
    "training_credentials = ApiKeyCredentials(in_headers={\"Training-key\": training_key})\n",
    "trainer = CustomVisionTrainingClient(ENDPOINT, training_credentials)"
   ]
  },
  {
   "cell_type": "code",
   "execution_count": null,
   "metadata": {},
   "outputs": [],
   "source": [
    "all_project = trainer.get_projects()"
   ]
  },
  {
   "cell_type": "code",
   "execution_count": null,
   "metadata": {},
   "outputs": [],
   "source": [
    "for each_project in all_project:\n",
    "    print(\"Project ID: \",each_project.id)\n",
    "    print(\"Project Name: \",each_project.name)"
   ]
  },
  {
   "cell_type": "markdown",
   "metadata": {},
   "source": [
    "### The following code will successfully show the correct results _only if_ you have at least one project; otherwise, it will generate an error."
   ]
  },
  {
   "cell_type": "code",
   "execution_count": null,
   "metadata": {},
   "outputs": [],
   "source": [
    "project_id = all_project[0].id\n",
    "print(\"Project ID: \", project_id)"
   ]
  },
  {
   "cell_type": "code",
   "execution_count": null,
   "metadata": {},
   "outputs": [],
   "source": [
    "# Print project ID of the second project (if you have one)\n",
    "\n",
    "# project_id_1 = all_project[1].id\n",
    "# print(\"Project ID: \", project_id_1)"
   ]
  },
  {
   "cell_type": "code",
   "execution_count": null,
   "metadata": {},
   "outputs": [],
   "source": [
    "all_iterations = trainer.get_iterations(project_id)"
   ]
  },
  {
   "cell_type": "code",
   "execution_count": null,
   "metadata": {},
   "outputs": [],
   "source": [
    "for index, each_iteration in enumerate(all_iterations):\n",
    "    print(\"|--------- Iteration [{}] --------\".format(index))\n",
    "    print(\"Iteration ID: \",each_iteration.id)\n",
    "    print(\"Iteration Name: \",each_iteration.name)\n",
    "    print(\"Iteration Exportable: \",each_iteration.exportable)\n",
    "    print(\"-----------------------------------------------------\")"
   ]
  },
  {
   "cell_type": "code",
   "execution_count": null,
   "metadata": {},
   "outputs": [],
   "source": [
    "for index, each_iteration in enumerate(all_iterations):\n",
    "    model_perf = trainer.get_iteration_performance(project_id, each_iteration.id)\n",
    "    print(\"----- Model Perormance {} -------- \".format(index))\n",
    "    print(\"Iteration ID: \",each_iteration.id)\n",
    "    print(\"Precision: {}   Recall: {} -------- \".format(model_perf.precision, model_perf.recall))\n",
    "    print(\"-----------------------------------------------------\")"
   ]
  },
  {
   "cell_type": "markdown",
   "metadata": {},
   "source": [
    "## Select an Iteration ID below to get iteration details\n",
    "\n",
    "### The following code will successfully show the correct results _only if_ you have at least one iteration ID; otherwise, it will generate an error."
   ]
  },
  {
   "cell_type": "code",
   "execution_count": null,
   "metadata": {},
   "outputs": [],
   "source": [
    "selected_iteration_id = \"ENTER ITERATION UUID HERE\""
   ]
  },
  {
   "cell_type": "code",
   "execution_count": null,
   "metadata": {},
   "outputs": [],
   "source": [
    "selected_iteration = trainer.get_iteration(project_id, selected_iteration_id)"
   ]
  },
  {
   "cell_type": "code",
   "execution_count": null,
   "metadata": {},
   "outputs": [],
   "source": [
    "selected_iteration.as_dict()"
   ]
  },
  {
   "cell_type": "code",
   "execution_count": null,
   "metadata": {},
   "outputs": [],
   "source": [
    "# Modify code to delete project/predition/iteration\n",
    "# Make sure to pass corresponding parameters\n",
    "# Example: delete iteration by passing project_id and iteration_id\n",
    "#    trainer.delete_iteration(project_id,selected_iteration_id)\n",
    "trainer.delete"
   ]
  },
  {
   "cell_type": "markdown",
   "metadata": {},
   "source": [
    "# Azure Form Recognizer Model"
   ]
  },
  {
   "cell_type": "code",
   "execution_count": null,
   "metadata": {},
   "outputs": [],
   "source": [
    "from azure.core.credentials import AzureKeyCredential\n",
    "from azure.ai.formrecognizer import FormRecognizerClient\n",
    "from azure.ai.formrecognizer import FormTrainingClient\n",
    "from azure.core.exceptions import ResourceNotFoundError"
   ]
  },
  {
   "cell_type": "code",
   "execution_count": null,
   "metadata": {},
   "outputs": [],
   "source": [
    "AZURE_FORM_RECOGNIZER_ENDPOINT = \"ENTER ENDPOINT HERE\"\n",
    "AZURE_FORM_RECOGNIZER_KEY = \"ENTER KEY HERE\""
   ]
  },
  {
   "cell_type": "code",
   "execution_count": null,
   "metadata": {},
   "outputs": [],
   "source": [
    "endpoint = AZURE_FORM_RECOGNIZER_ENDPOINT\n",
    "key = AZURE_FORM_RECOGNIZER_KEY"
   ]
  },
  {
   "cell_type": "code",
   "execution_count": null,
   "metadata": {},
   "outputs": [],
   "source": [
    "form_training_client = FormTrainingClient(endpoint=endpoint, credential=AzureKeyCredential(key))"
   ]
  },
  {
   "cell_type": "code",
   "execution_count": null,
   "metadata": {},
   "outputs": [],
   "source": [
    "account_properties = form_training_client.get_account_properties()\n",
    "print(\"Current Model Counts: {}\".format(account_properties.custom_model_count))\n",
    "print(\"Maximum Model Limit: {}\".format(account_properties.custom_model_limit))\n",
    "print(\"Available Model Limit: {}\".format(account_properties.custom_model_limit - account_properties.custom_model_count))"
   ]
  },
  {
   "cell_type": "code",
   "execution_count": null,
   "metadata": {},
   "outputs": [],
   "source": [
    "custom_form_recognizer_models = form_training_client.list_custom_models()\n",
    "print(\"Listing all the form recognizer models -----\")\n",
    "[print(model.model_id) for model in custom_form_recognizer_models]"
   ]
  },
  {
   "cell_type": "markdown",
   "metadata": {},
   "source": [
    "### Please enter a valid model ID below"
   ]
  },
  {
   "cell_type": "code",
   "execution_count": null,
   "metadata": {},
   "outputs": [],
   "source": [
    "model_id = 'ENTER MODEL ID HERE'"
   ]
  },
  {
   "cell_type": "code",
   "execution_count": null,
   "metadata": {},
   "outputs": [],
   "source": [
    "selected_form_recognizer_model = form_training_client.get_custom_model(model_id=model_id)"
   ]
  },
  {
   "cell_type": "code",
   "execution_count": null,
   "metadata": {},
   "outputs": [],
   "source": [
    "selected_form_recognizer_model.to_dict()"
   ]
  },
  {
   "cell_type": "code",
   "execution_count": null,
   "metadata": {},
   "outputs": [],
   "source": [
    "try:\n",
    "    form_training_client.delete_model(model_id=selected_form_recognizer_model.model_id)\n",
    "except ResourceNotFoundError:\n",
    "    print(\"Model with id {} not found.\".format(selected_form_recognizer_model.model_id))"
   ]
  },
  {
   "cell_type": "code",
   "execution_count": null,
   "metadata": {},
   "outputs": [],
   "source": [
    "try:\n",
    "    form_training_client.get_custom_model(model_id=selected_form_recognizer_model.model_id)\n",
    "except ResourceNotFoundError:\n",
    "    print(\"Model with id {} is removed.\".format(selected_form_recognizer_model.model_id))"
   ]
  },
  {
   "cell_type": "code",
   "execution_count": null,
   "metadata": {},
   "outputs": [],
   "source": []
  }
 ],
 "metadata": {
  "kernelspec": {
   "display_name": "Python 3 (ipykernel)",
   "language": "python",
   "name": "python3"
  },
  "language_info": {
   "codemirror_mode": {
    "name": "ipython",
    "version": 3
   },
   "file_extension": ".py",
   "mimetype": "text/x-python",
   "name": "python",
   "nbconvert_exporter": "python",
   "pygments_lexer": "ipython3",
   "version": "3.8.13"
  }
 },
 "nbformat": 4,
 "nbformat_minor": 4
}
