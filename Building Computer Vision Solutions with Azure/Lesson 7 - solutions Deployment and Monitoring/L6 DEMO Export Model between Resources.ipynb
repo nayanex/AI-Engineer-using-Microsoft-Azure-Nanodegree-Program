{
 "cells": [
  {
   "cell_type": "markdown",
   "metadata": {},
   "source": [
    "### Please install the required Python modules/SDKs"
   ]
  },
  {
   "cell_type": "code",
   "execution_count": null,
   "metadata": {},
   "outputs": [],
   "source": [
    "! activate ai-azure-c1\n",
    "\n",
    "import sys\n",
    "\n",
    "sys.path.append(\"/opt/conda/envs/ai-azure-c1/lib/python3.8/site-packages\")"
   ]
  },
  {
   "cell_type": "markdown",
   "metadata": {},
   "source": [
    "# Form Recognizer Model Export Demo"
   ]
  },
  {
   "cell_type": "code",
   "execution_count": null,
   "metadata": {},
   "outputs": [],
   "source": [
    "from azure.core.credentials import AzureKeyCredential\n",
    "from azure.ai.formrecognizer import FormRecognizerClient\n",
    "from azure.ai.formrecognizer import FormTrainingClient\n",
    "from azure.core.exceptions import ResourceNotFoundError"
   ]
  },
  {
   "cell_type": "markdown",
   "metadata": {},
   "source": [
    "## Set up source Form Recognizer object"
   ]
  },
  {
   "cell_type": "code",
   "execution_count": null,
   "metadata": {},
   "outputs": [],
   "source": [
    "AZURE_FORM_RECOGNIZER_ENDPOINT = \"ENTER ENDPOINT HERE\"\n",
    "AZURE_FORM_RECOGNIZER_KEY = \"ENTER KEY HERE\""
   ]
  },
  {
   "cell_type": "code",
   "execution_count": null,
   "metadata": {},
   "outputs": [],
   "source": [
    "endpoint = AZURE_FORM_RECOGNIZER_ENDPOINT\n",
    "key = AZURE_FORM_RECOGNIZER_KEY"
   ]
  },
  {
   "cell_type": "code",
   "execution_count": null,
   "metadata": {},
   "outputs": [],
   "source": [
    "source_form_recognizer_client = FormTrainingClient(endpoint=endpoint, credential=AzureKeyCredential(key))"
   ]
  },
  {
   "cell_type": "markdown",
   "metadata": {},
   "source": [
    "### IF you will have any of the models in your resources, it will be listed here. "
   ]
  },
  {
   "cell_type": "code",
   "execution_count": null,
   "metadata": {},
   "outputs": [],
   "source": [
    "account_properties = source_form_recognizer_client.get_account_properties()\n",
    "print(\"Current Model Counts: {}\".format(account_properties.custom_model_count))\n",
    "print(\"Maximum Model Limit: {}\".format(account_properties.custom_model_limit))\n",
    "print(\"Available Model Limit: {}\".format(account_properties.custom_model_limit - account_properties.custom_model_count))"
   ]
  },
  {
   "cell_type": "code",
   "execution_count": null,
   "metadata": {},
   "outputs": [],
   "source": [
    "custom_form_recognizer_models = source_form_recognizer_client.list_custom_models()\n",
    "print(\"Listing all the form recognizer models -----\")\n",
    "[print(model.model_id) for model in custom_form_recognizer_models]"
   ]
  },
  {
   "cell_type": "markdown",
   "metadata": {},
   "source": [
    "## Selecting the model (to be copied to another Form Recognizer resource)"
   ]
  },
  {
   "cell_type": "code",
   "execution_count": null,
   "metadata": {},
   "outputs": [],
   "source": [
    "# Select a model from the list \n",
    "model_id = 'ENTER MODEL HERE'"
   ]
  },
  {
   "cell_type": "code",
   "execution_count": null,
   "metadata": {},
   "outputs": [],
   "source": [
    "selected_form_recognizer_model = source_form_recognizer_client.get_custom_model(model_id=model_id)"
   ]
  },
  {
   "cell_type": "code",
   "execution_count": null,
   "metadata": {},
   "outputs": [],
   "source": [
    "selected_form_recognizer_model.to_dict()"
   ]
  },
  {
   "cell_type": "markdown",
   "metadata": {},
   "source": [
    "## Setting target resource (of the same type)"
   ]
  },
  {
   "cell_type": "code",
   "execution_count": null,
   "metadata": {},
   "outputs": [],
   "source": [
    "TARGET_FORM_RECOGNIZER_ENDPOINT = \"ENTER ENDPOINT HERE\"\n",
    "TARGET_FORM_RECOGNIZER_KEY = \"ENTER KEY HERE\"\n",
    "TARGET_REGION = \"ENTER REGION HERE\"\n",
    "TARGET_RESOURCE_ID = \"ENTER RESOURCE ID HERE\""
   ]
  },
  {
   "cell_type": "code",
   "execution_count": null,
   "metadata": {},
   "outputs": [],
   "source": [
    "target_form_recognizer_client = FormTrainingClient(endpoint=TARGET_FORM_RECOGNIZER_ENDPOINT, credential=AzureKeyCredential(TARGET_FORM_RECOGNIZER_KEY))"
   ]
  },
  {
   "cell_type": "code",
   "execution_count": null,
   "metadata": {},
   "outputs": [],
   "source": [
    "target = target_form_recognizer_client.get_copy_authorization(\n",
    "    resource_region=TARGET_REGION,\n",
    "    resource_id=TARGET_RESOURCE_ID\n",
    ")\n",
    "# model ID that target client will use to access the model once copy is complete\n",
    "print(\"Model ID: {}\".format(target[\"modelId\"]))\n",
    "# [END get_copy_authorization]\n"
   ]
  },
  {
   "cell_type": "code",
   "execution_count": null,
   "metadata": {},
   "outputs": [],
   "source": [
    "poller = source_form_recognizer_client.begin_copy_model(\n",
    "    model_id=selected_form_recognizer_model.model_id,\n",
    "    target=target  # output from target client's call to get_copy_authorization()\n",
    ")\n",
    "copied_over_model = poller.result()\n",
    "\n",
    "print(\"Model ID: {}\".format(copied_over_model.model_id))\n",
    "print(\"Status: {}\".format(copied_over_model.status))"
   ]
  },
  {
   "cell_type": "code",
   "execution_count": null,
   "metadata": {},
   "outputs": [],
   "source": [
    "# Verify that the target Form Recognizer resource's model count has increased by 1\n",
    "\n",
    "target_account_properties = target_form_recognizer_client.get_account_properties()\n",
    "print(\"Current Model Counts: {}\".format(target_account_properties.custom_model_count))\n",
    "print(\"Maximum Model Limit: {}\".format(target_account_properties.custom_model_limit))\n",
    "print(\"Available Model Limit: {}\".format(target_account_properties.custom_model_limit - target_account_properties.custom_model_count))\n"
   ]
  }
 ],
 "metadata": {
  "kernelspec": {
   "display_name": "Python 3",
   "language": "python",
   "name": "python3"
  },
  "language_info": {
   "codemirror_mode": {
    "name": "ipython",
    "version": 3
   },
   "file_extension": ".py",
   "mimetype": "text/x-python",
   "name": "python",
   "nbconvert_exporter": "python",
   "pygments_lexer": "ipython3",
   "version": "3.6.3"
  }
 },
 "nbformat": 4,
 "nbformat_minor": 4
}
