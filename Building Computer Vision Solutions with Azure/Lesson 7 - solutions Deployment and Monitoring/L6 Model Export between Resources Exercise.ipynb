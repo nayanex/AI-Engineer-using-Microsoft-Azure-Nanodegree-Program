{
 "cells": [
  {
   "cell_type": "markdown",
   "metadata": {},
   "source": [
    "### Please install the required Python modules/SDKs"
   ]
  },
  {
   "cell_type": "code",
   "execution_count": null,
   "metadata": {},
   "outputs": [],
   "source": [
    "! activate ai-azure-c1\n",
    "\n",
    "import sys\n",
    "\n",
    "sys.path.append(\"/opt/conda/envs/ai-azure-c1/lib/python3.8/site-packages\")"
   ]
  },
  {
   "cell_type": "code",
   "execution_count": null,
   "metadata": {},
   "outputs": [],
   "source": [
    "from azure.core.credentials import AzureKeyCredential\n",
    "from azure.ai.formrecognizer import FormRecognizerClient\n",
    "from azure.ai.formrecognizer import FormTrainingClient\n",
    "from azure.core.exceptions import ResourceNotFoundError"
   ]
  },
  {
   "cell_type": "markdown",
   "metadata": {},
   "source": [
    "## Please use this jupyter notebook for solution to your problem."
   ]
  },
  {
   "cell_type": "markdown",
   "metadata": {},
   "source": [
    "### TODO: Set up source Form Recognizer Object"
   ]
  },
  {
   "cell_type": "code",
   "execution_count": null,
   "metadata": {},
   "outputs": [],
   "source": [
    "AZURE_FORM_RECOGNIZER_ENDPOINT = \"ENTER ENDPOINT HERE\"\n",
    "AZURE_FORM_RECOGNIZER_KEY = \"ENTER KEY HERE\""
   ]
  },
  {
   "cell_type": "code",
   "execution_count": null,
   "metadata": {},
   "outputs": [],
   "source": [
    "endpoint = AZURE_FORM_RECOGNIZER_ENDPOINT\n",
    "key = AZURE_FORM_RECOGNIZER_KEY"
   ]
  },
  {
   "cell_type": "code",
   "execution_count": null,
   "metadata": {},
   "outputs": [],
   "source": [
    "# Code to instantiate source Form Recognizer Object\n",
    "source_form_recognizer_client = "
   ]
  },
  {
   "cell_type": "markdown",
   "metadata": {},
   "source": [
    "### TODO: List Form Recognizer Models"
   ]
  },
  {
   "cell_type": "code",
   "execution_count": null,
   "metadata": {},
   "outputs": [],
   "source": [
    "account_properties = source_form_recognizer_client.get_account_properties()\n",
    "print(\"Current Model Counts: {}\".format(account_properties.custom_model_count))\n",
    "print(\"Maximum Model Limit: {}\".format(account_properties.custom_model_limit))\n",
    "print(\"Available Model Limit: {}\".format(account_properties.custom_model_limit - account_properties.custom_model_count))"
   ]
  },
  {
   "cell_type": "code",
   "execution_count": null,
   "metadata": {},
   "outputs": [],
   "source": [
    "# Fill in the code below to list all custom Form Recognizer models\n",
    "\n",
    "custom_form_recognizer_models = \n",
    "print(\"Listing all the form recognizer models -----\")\n",
    "[print(model.model_id) for model in custom_form_recognizer_models]"
   ]
  },
  {
   "cell_type": "markdown",
   "metadata": {},
   "source": [
    "### TODO: Select the model to be copied to another Form Recognizer resource"
   ]
  },
  {
   "cell_type": "code",
   "execution_count": null,
   "metadata": {},
   "outputs": [],
   "source": [
    "# Select a model from the list and enter the model ID \n",
    "model_id = 'ENTER MODEL HERE'"
   ]
  },
  {
   "cell_type": "code",
   "execution_count": null,
   "metadata": {},
   "outputs": [],
   "source": [
    "# Fill in the code to get more details about the model you've selected\n",
    "\n",
    "selected_form_recognizer_model = \n"
   ]
  },
  {
   "cell_type": "markdown",
   "metadata": {},
   "source": [
    "### TODO: Set up target resource of the same type"
   ]
  },
  {
   "cell_type": "code",
   "execution_count": null,
   "metadata": {},
   "outputs": [],
   "source": [
    "TARGET_FORM_RECOGNIZER_ENDPOINT = \"ENTER ENDPOINT HERE\"\n",
    "TARGET_FORM_RECOGNIZER_KEY = \"ENTER KEY HERE\"\n",
    "TARGET_REGION = \"ENTER REGION HERE\"\n",
    "TARGET_RESOURCE_ID = \"ENTER RESOURCE ID HERE\""
   ]
  },
  {
   "cell_type": "code",
   "execution_count": null,
   "metadata": {},
   "outputs": [],
   "source": [
    "# Code to instantiate target Form Recognizer Object\n",
    "target_form_recognizer_client = "
   ]
  },
  {
   "cell_type": "code",
   "execution_count": null,
   "metadata": {},
   "outputs": [],
   "source": [
    "target = target_form_recognizer_client.get_copy_authorization(\n",
    "    resource_region=TARGET_REGION,\n",
    "    resource_id=TARGET_RESOURCE_ID\n",
    ")\n",
    "# model ID that target client will use to access the model once copy is complete\n",
    "print(\"Model ID: {}\".format(target[\"modelId\"]))\n",
    "# [END get_copy_authorization]"
   ]
  },
  {
   "cell_type": "markdown",
   "metadata": {},
   "source": [
    "### TODO: Copy model from source to target Form Recognizer resource"
   ]
  },
  {
   "cell_type": "code",
   "execution_count": null,
   "metadata": {},
   "outputs": [],
   "source": [
    "# Fill in the code to copy the model from source to target resource\n",
    "\n"
   ]
  },
  {
   "cell_type": "code",
   "execution_count": null,
   "metadata": {},
   "outputs": [],
   "source": [
    "# Verify that the target Form Recognizer resource's model count has increased by 1\n",
    "\n"
   ]
  }
 ],
 "metadata": {
  "kernelspec": {
   "display_name": "Python 3 (ipykernel)",
   "language": "python",
   "name": "python3"
  },
  "language_info": {
   "codemirror_mode": {
    "name": "ipython",
    "version": 3
   },
   "file_extension": ".py",
   "mimetype": "text/x-python",
   "name": "python",
   "nbconvert_exporter": "python",
   "pygments_lexer": "ipython3",
   "version": "3.8.13"
  }
 },
 "nbformat": 4,
 "nbformat_minor": 2
}
