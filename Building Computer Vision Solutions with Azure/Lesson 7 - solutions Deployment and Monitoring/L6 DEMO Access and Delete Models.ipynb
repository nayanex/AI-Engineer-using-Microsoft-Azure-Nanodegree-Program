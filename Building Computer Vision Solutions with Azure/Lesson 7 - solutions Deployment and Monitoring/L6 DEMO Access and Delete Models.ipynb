{
 "cells": [
  {
   "cell_type": "markdown",
   "metadata": {},
   "source": [
    "### Please install the required Python modules/SDKs"
   ]
  },
  {
   "cell_type": "code",
   "execution_count": 5,
   "metadata": {},
   "outputs": [
    {
     "name": "stdout",
     "output_type": "stream",
     "text": [
      "Could not find conda environment: ai-azure-c1\r\n",
      "You can list all discoverable environments with `conda info --envs`.\r\n",
      "\r\n"
     ]
    }
   ],
   "source": [
    "! activate ai-azure-c1\n",
    "\n",
    "import sys\n",
    "\n",
    "sys.path.append(\"/opt/conda/envs/ai-azure-c1/lib/python3.8/site-packages\")"
   ]
  },
  {
   "cell_type": "markdown",
   "metadata": {},
   "source": [
    "# Custom Vision Model - Delete Iteration will delete the model"
   ]
  },
  {
   "cell_type": "code",
   "execution_count": 6,
   "metadata": {},
   "outputs": [],
   "source": [
    "from azure.cognitiveservices.vision.customvision.training import CustomVisionTrainingClient\n",
    "from msrest.authentication import ApiKeyCredentials"
   ]
  },
  {
   "cell_type": "code",
   "execution_count": 7,
   "metadata": {},
   "outputs": [],
   "source": [
    "ENDPOINT = \"https://nayanacustomvision.cognitiveservices.azure.com/\"\n",
    "training_key = \"ce08598caf404621b37136119dccd921\"\n",
    "training_resource_id = \"/subscriptions/bb272072-9c6d-4e28-b814-947814c3e6ef/resourceGroups/nayana-ai-msft-azure/providers/Microsoft.CognitiveServices/accounts/nayanacustomvision\""
   ]
  },
  {
   "cell_type": "code",
   "execution_count": 8,
   "metadata": {},
   "outputs": [],
   "source": [
    "training_credentials = ApiKeyCredentials(in_headers={\"Training-key\": training_key})\n",
    "trainer = CustomVisionTrainingClient(ENDPOINT, training_credentials)"
   ]
  },
  {
   "cell_type": "code",
   "execution_count": 9,
   "metadata": {},
   "outputs": [],
   "source": [
    "all_project = trainer.get_projects()"
   ]
  },
  {
   "cell_type": "code",
   "execution_count": 10,
   "metadata": {},
   "outputs": [
    {
     "name": "stdout",
     "output_type": "stream",
     "text": [
      "Project ID:  c4c324e8-4f9e-49e3-b4be-797b38a686de\n",
      "Project Name:  cfd70f0c-a407-4410-b6ab-bc0632cd547e\n",
      "Project ID:  ddd61aae-3f1f-4196-94d6-7b4badc76ea7\n",
      "Project Name:  Automated-Passenger-Boarding-Kiosk\n"
     ]
    }
   ],
   "source": [
    "for each_project in all_project:\n",
    "    print(\"Project ID: \",each_project.id)\n",
    "    print(\"Project Name: \",each_project.name)"
   ]
  },
  {
   "cell_type": "markdown",
   "metadata": {},
   "source": [
    "### The following code will be successful to show correct results only if you have at least one project; otherwise, it will generate an error."
   ]
  },
  {
   "cell_type": "code",
   "execution_count": 11,
   "metadata": {},
   "outputs": [
    {
     "name": "stdout",
     "output_type": "stream",
     "text": [
      "Project ID:  c4c324e8-4f9e-49e3-b4be-797b38a686de\n"
     ]
    }
   ],
   "source": [
    "project_id = all_project[0].id\n",
    "print(\"Project ID: \", project_id)"
   ]
  },
  {
   "cell_type": "code",
   "execution_count": 12,
   "metadata": {},
   "outputs": [],
   "source": [
    "all_iterations = trainer.get_iterations(project_id)"
   ]
  },
  {
   "cell_type": "code",
   "execution_count": 13,
   "metadata": {},
   "outputs": [
    {
     "name": "stdout",
     "output_type": "stream",
     "text": [
      "|--------- Iteration [0] --------\n",
      "Iteration ID:  20d0fcb5-25eb-4808-bcf3-5a9cab295eec\n",
      "Iteration Name:  Iteration 2\n",
      "Iteration Exportable:  True\n",
      "-----------------------------------------------------\n",
      "|--------- Iteration [1] --------\n",
      "Iteration ID:  31106c08-c783-42e1-a43a-fb99e3b74928\n",
      "Iteration Name:  Iteration 1\n",
      "Iteration Exportable:  False\n",
      "-----------------------------------------------------\n"
     ]
    }
   ],
   "source": [
    "for index, each_iteration in enumerate(all_iterations):\n",
    "    print(\"|--------- Iteration [{}] --------\".format(index))\n",
    "    print(\"Iteration ID: \",each_iteration.id)\n",
    "    print(\"Iteration Name: \",each_iteration.name)\n",
    "    print(\"Iteration Exportable: \",each_iteration.exportable)\n",
    "    print(\"-----------------------------------------------------\")"
   ]
  },
  {
   "cell_type": "code",
   "execution_count": 14,
   "metadata": {},
   "outputs": [
    {
     "name": "stdout",
     "output_type": "stream",
     "text": [
      "----- Model Perormance 0 -------- \n",
      "Iteration ID:  20d0fcb5-25eb-4808-bcf3-5a9cab295eec\n",
      "Precision: 1.0   Recall: 0.23809524 -------- \n",
      "-----------------------------------------------------\n",
      "----- Model Perormance 1 -------- \n",
      "Iteration ID:  31106c08-c783-42e1-a43a-fb99e3b74928\n",
      "Precision: 1.0   Recall: 0.074074075 -------- \n",
      "-----------------------------------------------------\n"
     ]
    }
   ],
   "source": [
    "for index, each_iteration in enumerate(all_iterations):\n",
    "    model_perf = trainer.get_iteration_performance(project_id, each_iteration.id)\n",
    "    print(\"----- Model Perormance {} -------- \".format(index))\n",
    "    print(\"Iteration ID: \",each_iteration.id)\n",
    "    print(\"Precision: {}   Recall: {} -------- \".format(model_perf.precision, model_perf.recall))\n",
    "    print(\"-----------------------------------------------------\")"
   ]
  },
  {
   "cell_type": "markdown",
   "metadata": {},
   "source": [
    "## Please select an Iteration ID below to get iteration details\n",
    "### The following code will be successful to show correct results only if you have a correct iteration ID; otherwise, it will generate an error."
   ]
  },
  {
   "cell_type": "code",
   "execution_count": 15,
   "metadata": {},
   "outputs": [],
   "source": [
    "selected_iteration_id = \"20d0fcb5-25eb-4808-bcf3-5a9cab295eec\""
   ]
  },
  {
   "cell_type": "code",
   "execution_count": 16,
   "metadata": {},
   "outputs": [],
   "source": [
    "# Alternative to the cell above:\n",
    "selected_iteration_id = all_iterations[0].id"
   ]
  },
  {
   "cell_type": "code",
   "execution_count": 17,
   "metadata": {},
   "outputs": [],
   "source": [
    "selected_iteration = trainer.get_iteration(project_id, selected_iteration_id)"
   ]
  },
  {
   "cell_type": "code",
   "execution_count": 18,
   "metadata": {},
   "outputs": [
    {
     "data": {
      "text/plain": [
       "{'id': '20d0fcb5-25eb-4808-bcf3-5a9cab295eec',\n",
       " 'name': 'Iteration 2',\n",
       " 'status': 'Completed',\n",
       " 'created': '2022-06-21T10:31:35.630Z',\n",
       " 'last_modified': '2022-06-21T22:35:37.452Z',\n",
       " 'trained_at': '2022-06-21T22:35:37.450Z',\n",
       " 'project_id': 'c4c324e8-4f9e-49e3-b4be-797b38a686de',\n",
       " 'exportable': True,\n",
       " 'domain_id': '7ec2ac80-887b-48a6-8df9-8b1357765430',\n",
       " 'training_type': 'Regular',\n",
       " 'reserved_budget_in_hours': 0,\n",
       " 'training_time_in_minutes': 3}"
      ]
     },
     "execution_count": 18,
     "metadata": {},
     "output_type": "execute_result"
    }
   ],
   "source": [
    "selected_iteration.as_dict()"
   ]
  },
  {
   "cell_type": "code",
   "execution_count": 21,
   "metadata": {},
   "outputs": [],
   "source": [
    "# Modify the code to delete project/predition/iteration\n",
    "# Make sure to pass corresponding parameters\n",
    "# Example: delete iteration by passing project_id and iteration_id\n",
    "#    trainer.delete_iteration(project_id,selected_iteration_id)\n",
    "trainer.delete_iteration(project_id, selected_iteration_id)"
   ]
  },
  {
   "cell_type": "markdown",
   "metadata": {},
   "source": [
    "# Azure Form Recognizer Model"
   ]
  },
  {
   "cell_type": "code",
   "execution_count": 22,
   "metadata": {},
   "outputs": [],
   "source": [
    "from azure.core.credentials import AzureKeyCredential\n",
    "from azure.ai.formrecognizer import FormRecognizerClient\n",
    "from azure.ai.formrecognizer import FormTrainingClient\n",
    "from azure.core.exceptions import ResourceNotFoundError"
   ]
  },
  {
   "cell_type": "code",
   "execution_count": 23,
   "metadata": {},
   "outputs": [],
   "source": [
    "AZURE_FORM_RECOGNIZER_ENDPOINT = \"https://nayana-form-recognizer.cognitiveservices.azure.com/\"\n",
    "AZURE_FORM_RECOGNIZER_KEY = \"f4aa51d9e49e4ac29d3cce128565fba1\""
   ]
  },
  {
   "cell_type": "code",
   "execution_count": 24,
   "metadata": {},
   "outputs": [],
   "source": [
    "endpoint = AZURE_FORM_RECOGNIZER_ENDPOINT\n",
    "key = AZURE_FORM_RECOGNIZER_KEY"
   ]
  },
  {
   "cell_type": "code",
   "execution_count": 25,
   "metadata": {},
   "outputs": [],
   "source": [
    "form_training_client = FormTrainingClient(endpoint=endpoint, credential=AzureKeyCredential(key))"
   ]
  },
  {
   "cell_type": "code",
   "execution_count": 26,
   "metadata": {},
   "outputs": [
    {
     "name": "stdout",
     "output_type": "stream",
     "text": [
      "Current Model Counts: 15\n",
      "Maximum Model Limit: 250\n",
      "Available Model Limit: 235\n"
     ]
    }
   ],
   "source": [
    "account_properties = form_training_client.get_account_properties()\n",
    "print(\"Current Model Counts: {}\".format(account_properties.custom_model_count))\n",
    "print(\"Maximum Model Limit: {}\".format(account_properties.custom_model_limit))\n",
    "print(\"Available Model Limit: {}\".format(account_properties.custom_model_limit - account_properties.custom_model_count))"
   ]
  },
  {
   "cell_type": "code",
   "execution_count": 28,
   "metadata": {},
   "outputs": [
    {
     "name": "stdout",
     "output_type": "stream",
     "text": [
      "Listing all the form recognizer models -----\n",
      "1bc82c70-8870-482c-9756-6271f77f4dd6\n",
      "1e7bc759-1f9e-45ef-800d-82399116f3de\n",
      "24633256-aec3-4d4d-9924-aef9995e32d8\n",
      "357546c8-88bf-4829-8e6f-41fb5ef83565\n",
      "3d31e031-8000-4fdf-a44e-20a3e4d35d24\n",
      "47b68e4e-7cbc-4e82-98d9-ec335c44188a\n",
      "506ce987-fc88-4d90-9824-7af6f9c032fb\n",
      "5ef8272f-0039-4b56-977c-5444f400c4d1\n",
      "744defea-12bd-43d0-a8f0-36c0eae6219b\n",
      "85c9e0c3-0d0c-4b40-8f3d-176d4988aea8\n",
      "adc140ff-f4ce-450a-bf17-af41f5d98d7c\n",
      "d0f38793-b14e-498c-936a-3b5a00910228\n",
      "d89b3eb6-9df5-426c-ab33-06ec1f9c6171\n",
      "e67e032a-7846-4fa4-90cd-65a0e963d42b\n",
      "f7982411-95b3-4ce3-9368-5a3224c5f1fc\n"
     ]
    }
   ],
   "source": [
    "custom_form_recognizer_models = form_training_client.list_custom_models()\n",
    "print(\"Listing all the form recognizer models -----\")\n",
    "for model in custom_form_recognizer_models: print(model.model_id)"
   ]
  },
  {
   "cell_type": "markdown",
   "metadata": {},
   "source": [
    "### Please enter a valid model ID below"
   ]
  },
  {
   "cell_type": "code",
   "execution_count": 29,
   "metadata": {},
   "outputs": [],
   "source": [
    "model_id = '5ef8272f-0039-4b56-977c-5444f400c4d1'"
   ]
  },
  {
   "cell_type": "code",
   "execution_count": 30,
   "metadata": {},
   "outputs": [],
   "source": [
    "selected_form_recognizer_model = form_training_client.get_custom_model(model_id=model_id)"
   ]
  },
  {
   "cell_type": "code",
   "execution_count": 31,
   "metadata": {},
   "outputs": [
    {
     "data": {
      "text/plain": [
       "{'model_id': '5ef8272f-0039-4b56-977c-5444f400c4d1',\n",
       " 'status': 'ready',\n",
       " 'training_started_on': datetime.datetime(2022, 5, 26, 17, 44, 47, tzinfo=<isodate.tzinfo.Utc object at 0x7fb8c6094970>),\n",
       " 'training_completed_on': datetime.datetime(2022, 5, 26, 17, 44, 47, tzinfo=<isodate.tzinfo.Utc object at 0x7fb8c6094970>),\n",
       " 'submodels': [{'model_id': 'f7982411-95b3-4ce3-9368-5a3224c5f1fc',\n",
       "   'accuracy': 0.968,\n",
       "   'fields': {'Address To': {'label': None,\n",
       "     'accuracy': 0.833,\n",
       "     'name': 'Address To'},\n",
       "    'Business Information': {'label': None,\n",
       "     'accuracy': 0.995,\n",
       "     'name': 'Business Information'},\n",
       "    'Comments': {'label': None, 'accuracy': 0.995, 'name': 'Comments'},\n",
       "    'Company Motto': {'label': None,\n",
       "     'accuracy': 0.995,\n",
       "     'name': 'Company Motto'},\n",
       "    'Company Name': {'label': None, 'accuracy': 0.995, 'name': 'Company Name'},\n",
       "    'Contact Summary': {'label': None,\n",
       "     'accuracy': 0.995,\n",
       "     'name': 'Contact Summary'},\n",
       "    'Customer Number': {'label': None,\n",
       "     'accuracy': 0.917,\n",
       "     'name': 'Customer Number'},\n",
       "    'Department Name': {'label': None,\n",
       "     'accuracy': 0.995,\n",
       "     'name': 'Department Name'},\n",
       "    'First Name': {'label': None, 'accuracy': 0.995, 'name': 'First Name'},\n",
       "    'Items Total': {'label': None, 'accuracy': 0.833, 'name': 'Items Total'},\n",
       "    'Last Name': {'label': None, 'accuracy': 0.995, 'name': 'Last Name'},\n",
       "    'Order Number': {'label': None, 'accuracy': 0.995, 'name': 'Order Number'},\n",
       "    'Reference Subscription': {'label': None,\n",
       "     'accuracy': 0.995,\n",
       "     'name': 'Reference Subscription'}},\n",
       "   'form_type': 'custom:f7982411-95b3-4ce3-9368-5a3224c5f1fc'},\n",
       "  {'model_id': '1bc82c70-8870-482c-9756-6271f77f4dd6',\n",
       "   'accuracy': 0.968,\n",
       "   'fields': {'Address To': {'label': None,\n",
       "     'accuracy': 0.833,\n",
       "     'name': 'Address To'},\n",
       "    'Business Information': {'label': None,\n",
       "     'accuracy': 0.995,\n",
       "     'name': 'Business Information'},\n",
       "    'Comments': {'label': None, 'accuracy': 0.995, 'name': 'Comments'},\n",
       "    'Company Motto': {'label': None,\n",
       "     'accuracy': 0.995,\n",
       "     'name': 'Company Motto'},\n",
       "    'Company Name': {'label': None, 'accuracy': 0.995, 'name': 'Company Name'},\n",
       "    'Contact Summary': {'label': None,\n",
       "     'accuracy': 0.995,\n",
       "     'name': 'Contact Summary'},\n",
       "    'Customer Number': {'label': None,\n",
       "     'accuracy': 0.917,\n",
       "     'name': 'Customer Number'},\n",
       "    'Department Name': {'label': None,\n",
       "     'accuracy': 0.995,\n",
       "     'name': 'Department Name'},\n",
       "    'First Name': {'label': None, 'accuracy': 0.995, 'name': 'First Name'},\n",
       "    'Items Total': {'label': None, 'accuracy': 0.833, 'name': 'Items Total'},\n",
       "    'Last Name': {'label': None, 'accuracy': 0.995, 'name': 'Last Name'},\n",
       "    'Order Number': {'label': None, 'accuracy': 0.995, 'name': 'Order Number'},\n",
       "    'Reference Subscription': {'label': None,\n",
       "     'accuracy': 0.995,\n",
       "     'name': 'Reference Subscription'}},\n",
       "   'form_type': 'custom:1bc82c70-8870-482c-9756-6271f77f4dd6'}],\n",
       " 'errors': [],\n",
       " 'training_documents': [{'name': 'Cognito-corporation-test01.pdf',\n",
       "   'status': 'succeeded',\n",
       "   'page_count': 1,\n",
       "   'errors': [],\n",
       "   'model_id': 'f7982411-95b3-4ce3-9368-5a3224c5f1fc'},\n",
       "  {'name': 'Cognito-corporation-u-main.pdf',\n",
       "   'status': 'succeeded',\n",
       "   'page_count': 1,\n",
       "   'errors': [],\n",
       "   'model_id': 'f7982411-95b3-4ce3-9368-5a3224c5f1fc'},\n",
       "  {'name': 'Cognito-corporation-u1.pdf',\n",
       "   'status': 'succeeded',\n",
       "   'page_count': 1,\n",
       "   'errors': [],\n",
       "   'model_id': 'f7982411-95b3-4ce3-9368-5a3224c5f1fc'},\n",
       "  {'name': 'Cognito-corporation-u10.pdf',\n",
       "   'status': 'succeeded',\n",
       "   'page_count': 1,\n",
       "   'errors': [],\n",
       "   'model_id': 'f7982411-95b3-4ce3-9368-5a3224c5f1fc'},\n",
       "  {'name': 'Cognito-corporation-u2.pdf',\n",
       "   'status': 'succeeded',\n",
       "   'page_count': 1,\n",
       "   'errors': [],\n",
       "   'model_id': 'f7982411-95b3-4ce3-9368-5a3224c5f1fc'},\n",
       "  {'name': 'Cognito-corporation-u3.pdf',\n",
       "   'status': 'succeeded',\n",
       "   'page_count': 1,\n",
       "   'errors': [],\n",
       "   'model_id': 'f7982411-95b3-4ce3-9368-5a3224c5f1fc'},\n",
       "  {'name': 'Cognito-corporation-u4.pdf',\n",
       "   'status': 'succeeded',\n",
       "   'page_count': 1,\n",
       "   'errors': [],\n",
       "   'model_id': 'f7982411-95b3-4ce3-9368-5a3224c5f1fc'},\n",
       "  {'name': 'Cognito-corporation-u5.pdf',\n",
       "   'status': 'succeeded',\n",
       "   'page_count': 1,\n",
       "   'errors': [],\n",
       "   'model_id': 'f7982411-95b3-4ce3-9368-5a3224c5f1fc'},\n",
       "  {'name': 'Cognito-corporation-u6.pdf',\n",
       "   'status': 'succeeded',\n",
       "   'page_count': 1,\n",
       "   'errors': [],\n",
       "   'model_id': 'f7982411-95b3-4ce3-9368-5a3224c5f1fc'},\n",
       "  {'name': 'Cognito-corporation-u7.pdf',\n",
       "   'status': 'succeeded',\n",
       "   'page_count': 1,\n",
       "   'errors': [],\n",
       "   'model_id': 'f7982411-95b3-4ce3-9368-5a3224c5f1fc'},\n",
       "  {'name': 'Cognito-corporation-u8.pdf',\n",
       "   'status': 'succeeded',\n",
       "   'page_count': 1,\n",
       "   'errors': [],\n",
       "   'model_id': 'f7982411-95b3-4ce3-9368-5a3224c5f1fc'},\n",
       "  {'name': 'Cognito-corporation-u9.pdf',\n",
       "   'status': 'succeeded',\n",
       "   'page_count': 1,\n",
       "   'errors': [],\n",
       "   'model_id': 'f7982411-95b3-4ce3-9368-5a3224c5f1fc'},\n",
       "  {'name': 'Cognito-corporation.pdf',\n",
       "   'status': 'succeeded',\n",
       "   'page_count': 1,\n",
       "   'errors': [],\n",
       "   'model_id': 'f7982411-95b3-4ce3-9368-5a3224c5f1fc'},\n",
       "  {'name': 'Cognito-corporation-test01.pdf',\n",
       "   'status': 'succeeded',\n",
       "   'page_count': 1,\n",
       "   'errors': [],\n",
       "   'model_id': '1bc82c70-8870-482c-9756-6271f77f4dd6'},\n",
       "  {'name': 'Cognito-corporation-u-main.pdf',\n",
       "   'status': 'succeeded',\n",
       "   'page_count': 1,\n",
       "   'errors': [],\n",
       "   'model_id': '1bc82c70-8870-482c-9756-6271f77f4dd6'},\n",
       "  {'name': 'Cognito-corporation-u1.pdf',\n",
       "   'status': 'succeeded',\n",
       "   'page_count': 1,\n",
       "   'errors': [],\n",
       "   'model_id': '1bc82c70-8870-482c-9756-6271f77f4dd6'},\n",
       "  {'name': 'Cognito-corporation-u10.pdf',\n",
       "   'status': 'succeeded',\n",
       "   'page_count': 1,\n",
       "   'errors': [],\n",
       "   'model_id': '1bc82c70-8870-482c-9756-6271f77f4dd6'},\n",
       "  {'name': 'Cognito-corporation-u2.pdf',\n",
       "   'status': 'succeeded',\n",
       "   'page_count': 1,\n",
       "   'errors': [],\n",
       "   'model_id': '1bc82c70-8870-482c-9756-6271f77f4dd6'},\n",
       "  {'name': 'Cognito-corporation-u3.pdf',\n",
       "   'status': 'succeeded',\n",
       "   'page_count': 1,\n",
       "   'errors': [],\n",
       "   'model_id': '1bc82c70-8870-482c-9756-6271f77f4dd6'},\n",
       "  {'name': 'Cognito-corporation-u4.pdf',\n",
       "   'status': 'succeeded',\n",
       "   'page_count': 1,\n",
       "   'errors': [],\n",
       "   'model_id': '1bc82c70-8870-482c-9756-6271f77f4dd6'},\n",
       "  {'name': 'Cognito-corporation-u5.pdf',\n",
       "   'status': 'succeeded',\n",
       "   'page_count': 1,\n",
       "   'errors': [],\n",
       "   'model_id': '1bc82c70-8870-482c-9756-6271f77f4dd6'},\n",
       "  {'name': 'Cognito-corporation-u6.pdf',\n",
       "   'status': 'succeeded',\n",
       "   'page_count': 1,\n",
       "   'errors': [],\n",
       "   'model_id': '1bc82c70-8870-482c-9756-6271f77f4dd6'},\n",
       "  {'name': 'Cognito-corporation-u7.pdf',\n",
       "   'status': 'succeeded',\n",
       "   'page_count': 1,\n",
       "   'errors': [],\n",
       "   'model_id': '1bc82c70-8870-482c-9756-6271f77f4dd6'},\n",
       "  {'name': 'Cognito-corporation-u8.pdf',\n",
       "   'status': 'succeeded',\n",
       "   'page_count': 1,\n",
       "   'errors': [],\n",
       "   'model_id': '1bc82c70-8870-482c-9756-6271f77f4dd6'},\n",
       "  {'name': 'Cognito-corporation-u9.pdf',\n",
       "   'status': 'succeeded',\n",
       "   'page_count': 1,\n",
       "   'errors': [],\n",
       "   'model_id': '1bc82c70-8870-482c-9756-6271f77f4dd6'},\n",
       "  {'name': 'Cognito-corporation.pdf',\n",
       "   'status': 'succeeded',\n",
       "   'page_count': 1,\n",
       "   'errors': [],\n",
       "   'model_id': '1bc82c70-8870-482c-9756-6271f77f4dd6'}],\n",
       " 'model_name': 'Cognito Corporation Model',\n",
       " 'properties': {'is_composed_model': True}}"
      ]
     },
     "execution_count": 31,
     "metadata": {},
     "output_type": "execute_result"
    }
   ],
   "source": [
    "selected_form_recognizer_model.to_dict()"
   ]
  },
  {
   "cell_type": "code",
   "execution_count": 34,
   "metadata": {},
   "outputs": [
    {
     "name": "stdout",
     "output_type": "stream",
     "text": [
      "Model with id 5ef8272f-0039-4b56-977c-5444f400c4d1 not found.\n"
     ]
    }
   ],
   "source": [
    "try:\n",
    "    form_training_client.delete_model(model_id=selected_form_recognizer_model.model_id)\n",
    "except ResourceNotFoundError:\n",
    "    print(\"Model with id {} not found.\".format(selected_form_recognizer_model.model_id))"
   ]
  },
  {
   "cell_type": "code",
   "execution_count": 33,
   "metadata": {},
   "outputs": [
    {
     "name": "stdout",
     "output_type": "stream",
     "text": [
      "Model with id 5ef8272f-0039-4b56-977c-5444f400c4d1 is removed.\n"
     ]
    }
   ],
   "source": [
    "try:\n",
    "    form_training_client.get_custom_model(model_id=selected_form_recognizer_model.model_id)\n",
    "except ResourceNotFoundError:\n",
    "    print(\"Model with id {} is removed.\".format(selected_form_recognizer_model.model_id))"
   ]
  },
  {
   "cell_type": "code",
   "execution_count": null,
   "metadata": {},
   "outputs": [],
   "source": []
  }
 ],
 "metadata": {
  "kernelspec": {
   "display_name": "Python 3 (ipykernel)",
   "language": "python",
   "name": "python3"
  },
  "language_info": {
   "codemirror_mode": {
    "name": "ipython",
    "version": 3
   },
   "file_extension": ".py",
   "mimetype": "text/x-python",
   "name": "python",
   "nbconvert_exporter": "python",
   "pygments_lexer": "ipython3",
   "version": "3.8.13"
  }
 },
 "nbformat": 4,
 "nbformat_minor": 4
}
